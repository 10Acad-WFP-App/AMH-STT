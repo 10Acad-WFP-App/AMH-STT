{
 "cells": [
  {
   "cell_type": "code",
   "execution_count": 1,
   "source": [
    "from json import dump"
   ],
   "outputs": [],
   "metadata": {}
  },
  {
   "cell_type": "code",
   "execution_count": 2,
   "source": [
    "language_data = {}"
   ],
   "outputs": [],
   "metadata": {}
  },
  {
   "cell_type": "code",
   "execution_count": 3,
   "source": [
    "supported_alphabets = \"\"\"\r\n",
    "ሀ ሁ ሂ ሃ ሄ ህ ሆ\r\n",
    "ለ ሉ ሊ ላ ሌ ል ሎ ሏ\r\n",
    "ሐ ሑ ሒ ሓ ሔ ሕ ሖ ሗ\r\n",
    "መ ሙ ሚ ማ ሜ ም ሞ ሟ\r\n",
    "ሠ ሡ ሢ ሣ ሤ ሥ ሦ ሧ\r\n",
    "ረ ሩ ሪ ራ ሬ ር ሮ ሯ\r\n",
    "ሰ ሱ ሲ ሳ ሴ ስ ሶ ሷ\r\n",
    "ሸ ሹ ሺ ሻ ሼ ሽ ሾ ሿ\r\n",
    "ቀ ቁ ቂ ቃ ቄ ቅ ቆ ቇ ቋ\r\n",
    "ቐ ቐ ቑ ቒ ቓ ቔ ቕ ቖ\r\n",
    "በ ቡ ቢ ባ ቤ ብ ቦ ቧ\r\n",
    "ቨ ቩ ቪ ቫ ቬ ቭ ቮ ቯ\r\n",
    "ተ ቱ ቲ ታ ቴ ት ቶ ቷ\r\n",
    "ቸ ቹ ቺ ቻ ቼ ች ቾ ቿ\r\n",
    "ኀ ኁ ኂ ኃ ኄ ኅ ኆ ኇ ኋ\r\n",
    "ነ ኑ ኒ ና ኔ ን ጓ ኖ ኗ\r\n",
    "ኘ ኙ ኚ ኛ ኜ ኝ ኞ ኟ\r\n",
    "አ ኡ ኢ ኣ ኤ እ ኦ ኧ\r\n",
    "ከ ኩ ኪ ካ ኬ ክ ኮ ኯ ኰ ኳ ኲ\r\n",
    "ኸ ኹ ኺ ኻ ኼ ኽ ኾ\r\n",
    "ወ ዉ ዊ ዋ ዌ ው ዎ\r\n",
    "ዐ ዑ ዒ ዓ ዔ ዕ ዖ\r\n",
    "ዘ ዙ ዚ ዛ ዜ ዝ ዞ ዟ\r\n",
    "ዠ ዡ ዢ ዣ ዤ ዥ ዦ ዧ\r\n",
    "የ ዩ ዪ ያ ዬ ይ ዮ ዯ\r\n",
    "ደ ዱ ዲ ዳ ዴ ድ ዶ ዷ\r\n",
    "ጀ ጁ ጂ ጃ ጄ ጅ ጆ ጇ\r\n",
    "ገ ጉ ጊ ጋ ጌ ግ ጐ ጎ ጏ ጔ\r\n",
    "ጠ ጡ ጢ ጣ ጤ ጥ ጦ ጧ\r\n",
    "ጨ ጩ ጪ ጫ ጬ ጭ ጮ ጯ\r\n",
    "ጰ ጱ ጲ ጳ ጴ ጵ ጶ ጷ\r\n",
    "ጸ ጹ ጺ ጻ ጼ ጽ ጾ ጿ\r\n",
    "ፀ ፁ ፂ ፃ ፄ ፅ ፆ ፇ\r\n",
    "ፈ ፉ ፊ ፋ ፌ ፍ ፎ ፏ\r\n",
    "ፐ ፑ ፒ ፓ ፔ ፕ ፖ ፗ\r\n",
    "\"\"\".split()\r\n"
   ],
   "outputs": [],
   "metadata": {}
  },
  {
   "cell_type": "code",
   "execution_count": 4,
   "source": [
    "supported_alphabets.append('<space>')\r\n",
    "# supported_alphabets\r\n"
   ],
   "outputs": [],
   "metadata": {}
  },
  {
   "cell_type": "code",
   "execution_count": 5,
   "source": [
    "alphabet_to_num = {}\r\n",
    "index = 0\r\n",
    "for alphabet in supported_alphabets:\r\n",
    "    alphabet_to_num[alphabet] = index\r\n",
    "    index += 1\r\n",
    "\r\n",
    "num_to_alphabet = {v: k for k, v in alphabet_to_num.items()}"
   ],
   "outputs": [],
   "metadata": {}
  },
  {
   "cell_type": "code",
   "execution_count": 6,
   "source": [
    "language_data['char_to_num'] = alphabet_to_num\r\n",
    "language_data['num_to_char'] = num_to_alphabet\r\n",
    "language_data['alphabet_size'] = len(supported_alphabets)"
   ],
   "outputs": [],
   "metadata": {}
  },
  {
   "cell_type": "code",
   "execution_count": 7,
   "source": [
    "with open('../data/language_model.json', \"w\", encoding='UTF-8') as export_file:\r\n",
    "    dump(language_data, export_file, indent=4, sort_keys=True, ensure_ascii=False)\r\n"
   ],
   "outputs": [],
   "metadata": {}
  },
  {
   "cell_type": "code",
   "execution_count": null,
   "source": [],
   "outputs": [],
   "metadata": {}
  }
 ],
 "metadata": {
  "orig_nbformat": 4,
  "language_info": {
   "name": "python",
   "version": "3.8.4",
   "mimetype": "text/x-python",
   "codemirror_mode": {
    "name": "ipython",
    "version": 3
   },
   "pygments_lexer": "ipython3",
   "nbconvert_exporter": "python",
   "file_extension": ".py"
  },
  "kernelspec": {
   "name": "python3",
   "display_name": "Python 3.8.4 64-bit"
  },
  "interpreter": {
   "hash": "2db524e06e9f5f4ffedc911c917cb75e12dbc923643829bf417064a77eb14d37"
  }
 },
 "nbformat": 4,
 "nbformat_minor": 2
}