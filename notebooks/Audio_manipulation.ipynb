{
 "cells": [
  {
   "cell_type": "code",
   "execution_count": 1,
   "source": [
    "import os\n",
    "import sys\n",
    "import librosa\n",
    "import seaborn as sn\n",
    "sys.path.append(os.path.abspath(os.path.join('../scripts')))\n",
    "from audio_loader import AudioLoader\n",
    "from audio_manuplator import AudioManipulator\n",
    "import visualize as vis\n",
    "from results_pickler import ResultPickler\n",
    "# import audio_manuplator as am\n",
    "import pandas as pd\n",
    "import matplotlib.pyplot as plt\n",
    "import numpy as np\n",
    "import random"
   ],
   "outputs": [
    {
     "output_type": "error",
     "ename": "ModuleNotFoundError",
     "evalue": "No module named 'scripts.audio_loader'",
     "traceback": [
      "\u001b[0;31m---------------------------------------------------------------------------\u001b[0m",
      "\u001b[0;31mModuleNotFoundError\u001b[0m                       Traceback (most recent call last)",
      "\u001b[0;32m<ipython-input-1-210cc6bc2075>\u001b[0m in \u001b[0;36m<module>\u001b[0;34m\u001b[0m\n\u001b[1;32m      4\u001b[0m \u001b[0;32mimport\u001b[0m \u001b[0mseaborn\u001b[0m \u001b[0;32mas\u001b[0m \u001b[0msn\u001b[0m\u001b[0;34m\u001b[0m\u001b[0;34m\u001b[0m\u001b[0m\n\u001b[1;32m      5\u001b[0m \u001b[0msys\u001b[0m\u001b[0;34m.\u001b[0m\u001b[0mpath\u001b[0m\u001b[0;34m.\u001b[0m\u001b[0mappend\u001b[0m\u001b[0;34m(\u001b[0m\u001b[0mos\u001b[0m\u001b[0;34m.\u001b[0m\u001b[0mpath\u001b[0m\u001b[0;34m.\u001b[0m\u001b[0mabspath\u001b[0m\u001b[0;34m(\u001b[0m\u001b[0mos\u001b[0m\u001b[0;34m.\u001b[0m\u001b[0mpath\u001b[0m\u001b[0;34m.\u001b[0m\u001b[0mjoin\u001b[0m\u001b[0;34m(\u001b[0m\u001b[0;34m'../scripts'\u001b[0m\u001b[0;34m)\u001b[0m\u001b[0;34m)\u001b[0m\u001b[0;34m)\u001b[0m\u001b[0;34m\u001b[0m\u001b[0;34m\u001b[0m\u001b[0m\n\u001b[0;32m----> 6\u001b[0;31m \u001b[0;32mfrom\u001b[0m \u001b[0mscripts\u001b[0m\u001b[0;34m.\u001b[0m\u001b[0maudio_loader\u001b[0m \u001b[0;32mimport\u001b[0m \u001b[0mAudioLoader\u001b[0m\u001b[0;34m\u001b[0m\u001b[0;34m\u001b[0m\u001b[0m\n\u001b[0m\u001b[1;32m      7\u001b[0m \u001b[0;32mfrom\u001b[0m \u001b[0mscripts\u001b[0m\u001b[0;34m.\u001b[0m\u001b[0maudio_manuplator\u001b[0m \u001b[0;32mimport\u001b[0m \u001b[0mAudioManipulator\u001b[0m\u001b[0;34m\u001b[0m\u001b[0;34m\u001b[0m\u001b[0m\n\u001b[1;32m      8\u001b[0m \u001b[0;32mimport\u001b[0m \u001b[0mscripts\u001b[0m\u001b[0;34m.\u001b[0m\u001b[0mvisualize\u001b[0m \u001b[0;32mas\u001b[0m \u001b[0mvis\u001b[0m\u001b[0;34m\u001b[0m\u001b[0;34m\u001b[0m\u001b[0m\n",
      "\u001b[0;31mModuleNotFoundError\u001b[0m: No module named 'scripts.audio_loader'"
     ]
    }
   ],
   "metadata": {}
  },
  {
   "cell_type": "code",
   "execution_count": 3,
   "source": [
    "sys.path.append('../scripts')"
   ],
   "outputs": [],
   "metadata": {}
  },
  {
   "cell_type": "code",
   "execution_count": 4,
   "source": [
    "sys.path"
   ],
   "outputs": [
    {
     "output_type": "execute_result",
     "data": {
      "text/plain": [
       "['/home/eyerusalem/Documents/AMH-STT/notebooks',\n",
       " '/home/eyerusalem/.vscode/extensions/ms-toolsai.jupyter-2021.8.1054968649/pythonFiles',\n",
       " '/home/eyerusalem/.vscode/extensions/ms-toolsai.jupyter-2021.8.1054968649/pythonFiles/lib/python',\n",
       " '/home/eyerusalem/anaconda3/lib/python38.zip',\n",
       " '/home/eyerusalem/anaconda3/lib/python3.8',\n",
       " '/home/eyerusalem/anaconda3/lib/python3.8/lib-dynload',\n",
       " '',\n",
       " '/home/eyerusalem/anaconda3/lib/python3.8/site-packages',\n",
       " '/home/eyerusalem/anaconda3/lib/python3.8/site-packages/locket-0.2.1-py3.8.egg',\n",
       " '/home/eyerusalem/anaconda3/lib/python3.8/site-packages/IPython/extensions',\n",
       " '/home/eyerusalem/.ipython',\n",
       " '/home/eyerusalem/Documents/AMH-STT',\n",
       " '../scripts',\n",
       " '../scripts']"
      ]
     },
     "metadata": {},
     "execution_count": 4
    }
   ],
   "metadata": {}
  }
 ],
 "metadata": {
  "orig_nbformat": 4,
  "language_info": {
   "name": "python",
   "version": "3.8.5",
   "mimetype": "text/x-python",
   "codemirror_mode": {
    "name": "ipython",
    "version": 3
   },
   "pygments_lexer": "ipython3",
   "nbconvert_exporter": "python",
   "file_extension": ".py"
  },
  "kernelspec": {
   "name": "python3",
   "display_name": "Python 3.8.5 64-bit ('base': conda)"
  },
  "interpreter": {
   "hash": "01a53f6aedbd0da25218059d2dc33085a259499401f59794919e6f864bde72bd"
  }
 },
 "nbformat": 4,
 "nbformat_minor": 2
}